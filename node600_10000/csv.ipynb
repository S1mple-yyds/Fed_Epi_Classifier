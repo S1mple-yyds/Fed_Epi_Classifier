{
 "cells": [
  {
   "cell_type": "code",
   "execution_count": 2,
   "metadata": {},
   "outputs": [],
   "source": [
    "import csv\n",
    "def generate_adjacency_matrix(file_path):\n",
    "  \"\"\"\n",
    "  从邻接表文件生成邻接矩阵并保存为 CSV 文件。\n",
    "\n",
    "  Args:\n",
    "    file_path: 邻接表文件的路径。\n",
    "  \"\"\"\n",
    "  # 读取邻接表文件\n",
    "  with open(file_path, 'r') as f:\n",
    "    lines = f.readlines()\n",
    "\n",
    "  # 初始化邻接矩阵\n",
    "  adjacency_matrix = [[0] * 600 for _ in range(600)]\n",
    "\n",
    "  # 解析邻接表并填充邻接矩阵\n",
    "  for line in lines:\n",
    "    src, dst = map(int, line.strip().split())\n",
    "    adjacency_matrix[src][dst] = 1\n",
    "    adjacency_matrix[dst][src] = 1  # 如果是无向图，需要添加这句代码\n",
    "\n",
    "  # 将邻接矩阵保存为 CSV 文件\n",
    "  with open('airport_600.csv', 'w') as f:\n",
    "    writer = csv.writer(f)\n",
    "    writer.writerows(adjacency_matrix)\n",
    "\n",
    "# 使用示例\n",
    "generate_adjacency_matrix('airport_600.txt')\n"
   ]
  }
 ],
 "metadata": {
  "kernelspec": {
   "display_name": "gnn",
   "language": "python",
   "name": "python3"
  },
  "language_info": {
   "codemirror_mode": {
    "name": "ipython",
    "version": 3
   },
   "file_extension": ".py",
   "mimetype": "text/x-python",
   "name": "python",
   "nbconvert_exporter": "python",
   "pygments_lexer": "ipython3",
   "version": "3.8.0"
  }
 },
 "nbformat": 4,
 "nbformat_minor": 2
}
